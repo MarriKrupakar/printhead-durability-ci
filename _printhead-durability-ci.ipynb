{
 "cells": [
  {
   "cell_type": "code",
   "execution_count": 20,
   "id": "dfbd8cfd-4582-48a4-b453-367c82de9959",
   "metadata": {},
   "outputs": [
    {
     "name": "stdout",
     "output_type": "stream",
     "text": [
      "Calculate sample statistics\n",
      "Sample mean: 1.2387 million characters\n",
      "Sample standard deviation: 0.1932 million characters\n",
      "Sample size (n): 15\n",
      "\n",
      "Determine the critical t-value\n",
      "Degrees of freedom: 14\n",
      "Critical t-value for 99% confidence: 2.9768\n",
      "\n",
      "Calculate the margin of error\n",
      "Margin of error: 0.1485 million characters\n",
      "\n",
      "Construct the 99% confidence interval\n",
      "99% Confidence Interval using sample standard deviation: (1.0902, 1.3871) million characters\n"
     ]
    }
   ],
   "source": [
    "import numpy as np\n",
    "import scipy.stats as stats\n",
    "data = [1.13, 1.55, 1.43, 0.92, 1.25, 1.36, 1.32, 0.85, 1.07, \n",
    "        1.48, 1.20, 1.33, 1.18, 1.22, 1.29]\n",
    "sample_mean = np.mean(data)\n",
    "sample_std = np.std(data, ddof=1)  \n",
    "n = len(data)\n",
    "print(\"Calculate sample statistics\")\n",
    "print(f\"Sample mean: {sample_mean:.4f} million characters\")\n",
    "print(f\"Sample standard deviation: {sample_std:.4f} million characters\")\n",
    "print(f\"Sample size (n): {n}\\n\")\n",
    "confidence_level = 0.99\n",
    "degrees_of_freedom = n - 1\n",
    "t_critical = stats.t.ppf((1 + confidence_level) / 2, degrees_of_freedom)\n",
    "print(\"Determine the critical t-value\")\n",
    "print(f\"Degrees of freedom: {degrees_of_freedom}\")\n",
    "print(f\"Critical t-value for 99% confidence: {t_critical:.4f}\\n\")\n",
    "margin_of_error = t_critical * (sample_std / np.sqrt(n))\n",
    "print(\"Calculate the margin of error\")\n",
    "print(f\"Margin of error: {margin_of_error:.4f} million characters\\n\")\n",
    "ci_lower = sample_mean - margin_of_error\n",
    "ci_upper = sample_mean + margin_of_error\n",
    "print(\"Construct the 99% confidence interval\")\n",
    "print(f\"99% Confidence Interval using sample standard deviation: ({ci_lower:.4f}, {ci_upper:.4f}) million characters\")"
   ]
  },
  {
   "cell_type": "code",
   "execution_count": 22,
   "id": "6ba77c7c-0515-49f2-9a91-4e7e92c9cd63",
   "metadata": {},
   "outputs": [
    {
     "name": "stdout",
     "output_type": "stream",
     "text": [
      "Use sample mean from part a\n",
      "Sample mean: 1.2387 million characters\n",
      "\n",
      "Determine the critical z-value\n",
      "Critical z-value for 99% confidence: 2.5758\n",
      "\n",
      "Calculate the margin of error with known σ\n",
      "Margin of error: 0.1330 million characters\n",
      "\n",
      "Construct the 99% confidence interval\n",
      "99% Confidence Interval using known σ: (1.1057, 1.3717) million characters\n"
     ]
    }
   ],
   "source": [
    "pop_std = 0.2\n",
    "print(\"Use sample mean from part a\")\n",
    "print(f\"Sample mean: {sample_mean:.4f} million characters\\n\")\n",
    "z_critical = stats.norm.ppf((1 + confidence_level) / 2)\n",
    "print(\"Determine the critical z-value\")\n",
    "print(f\"Critical z-value for 99% confidence: {z_critical:.4f}\\n\")\n",
    "margin_of_error_z = z_critical * (pop_std / np.sqrt(n))\n",
    "print(\"Calculate the margin of error with known σ\")\n",
    "print(f\"Margin of error: {margin_of_error_z:.4f} million characters\\n\")\n",
    "ci_lower_z = sample_mean - margin_of_error_z\n",
    "ci_upper_z = sample_mean + margin_of_error_z\n",
    "print(\"Construct the 99% confidence interval\")\n",
    "print(f\"99% Confidence Interval using known σ: ({ci_lower_z:.4f}, {ci_upper_z:.4f}) million characters\")\n"
   ]
  },
  {
   "cell_type": "code",
   "execution_count": null,
   "id": "49a5535f-b908-46f8-8915-514450d166fe",
   "metadata": {},
   "outputs": [],
   "source": []
  },
  {
   "cell_type": "code",
   "execution_count": null,
   "id": "bd875a69-640f-4a01-972c-e43c7a513e32",
   "metadata": {},
   "outputs": [],
   "source": []
  }
 ],
 "metadata": {
  "kernelspec": {
   "display_name": "Python [conda env:base] *",
   "language": "python",
   "name": "conda-base-py"
  },
  "language_info": {
   "codemirror_mode": {
    "name": "ipython",
    "version": 3
   },
   "file_extension": ".py",
   "mimetype": "text/x-python",
   "name": "python",
   "nbconvert_exporter": "python",
   "pygments_lexer": "ipython3",
   "version": "3.11.5"
  }
 },
 "nbformat": 4,
 "nbformat_minor": 5
}
